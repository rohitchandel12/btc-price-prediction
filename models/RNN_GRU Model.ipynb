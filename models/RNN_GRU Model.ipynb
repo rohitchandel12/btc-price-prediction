{
 "cells": [
  {
   "cell_type": "code",
   "execution_count": 72,
   "metadata": {},
   "outputs": [],
   "source": [
    "import pandas as pd\n",
    "import numpy as np\n",
    "from math import sqrt\n",
    "from numpy import concatenate\n",
    "from matplotlib import pyplot\n",
    "from pandas import read_csv\n",
    "from pandas import DataFrame\n",
    "from pandas import concat\n",
    "from sklearn.preprocessing import MinMaxScaler\n",
    "from sklearn.preprocessing import LabelEncoder\n",
    "from sklearn.metrics import mean_squared_error\n",
    "from keras.models import Sequential\n",
    "from keras.layers import Dense\n",
    "from keras.layers import LSTM, GRU\n",
    "import tensorflow as tf\n",
    "from datetime import datetime\n",
    "import keras"
   ]
  },
  {
   "cell_type": "markdown",
   "metadata": {},
   "source": [
    "### 3) Build and train an RNN model with a GRU layer and print the train and validation loss"
   ]
  },
  {
   "cell_type": "code",
   "execution_count": 111,
   "metadata": {},
   "outputs": [],
   "source": [
    "X_test_lagged = pd.read_csv('../models/X_test_lagged.csv',index_col = 0)\n",
    "X_train_lagged = pd.read_csv('../models/X_train_lagged.csv',index_col = 0)\n",
    "X_valid_lagged = pd.read_csv('../models/X_valid_lagged.csv',index_col = 0)\n",
    "\n",
    "Y_test_leading = pd.read_csv('../models/Y_test_leading.csv',index_col = 0)\n",
    "Y_train_leading = pd.read_csv('../models/Y_train_leading.csv',index_col = 0)\n",
    "Y_valid_leading = pd.read_csv('../models/Y_valid_leading.csv',index_col = 0)"
   ]
  },
  {
   "cell_type": "code",
   "execution_count": 112,
   "metadata": {},
   "outputs": [
    {
     "name": "stdout",
     "output_type": "stream",
     "text": [
      "((2840, 28, 10), (2840, 7), (149, 28, 10), (149, 7))\n"
     ]
    }
   ],
   "source": [
    "# reshape input to be 3D [samples, time steps, features]\n",
    "X_train_lagged = X_train_lagged.values.reshape((X_train_lagged.shape[0], 28, X_train_lagged.shape[1]/28))\n",
    "X_valid_lagged = X_valid_lagged.values.reshape((X_valid_lagged.shape[0], 28, X_valid_lagged.shape[1]/28))\n",
    "print(X_train_lagged.shape, Y_train_leading.shape, X_valid_lagged.shape, Y_valid_leading.shape)"
   ]
  },
  {
   "cell_type": "code",
   "execution_count": 144,
   "metadata": {},
   "outputs": [
    {
     "name": "stdout",
     "output_type": "stream",
     "text": [
      "Model: \"sequential_1\"\n",
      "_________________________________________________________________\n",
      "Layer (type)                 Output Shape              Param #   \n",
      "=================================================================\n",
      "gru_1 (GRU)                  (None, 50)                9150      \n",
      "_________________________________________________________________\n",
      "dense_1 (Dense)              (None, 7)                 357       \n",
      "=================================================================\n",
      "Total params: 9,507\n",
      "Trainable params: 9,507\n",
      "Non-trainable params: 0\n",
      "_________________________________________________________________\n"
     ]
    }
   ],
   "source": [
    "#gru\n",
    "keras.backend.clear_session()\n",
    "model_gru = Sequential()\n",
    "model_gru.add(GRU(50,input_shape=(X_train_lagged.shape[1], X_train_lagged.shape[2])))\n",
    "model_gru.add(Dense(units=7,activation='sigmoid'))\n",
    "model_gru.compile(loss='mae', optimizer='adam', metrics=['accuracy'])\n",
    "model_gru.summary()"
   ]
  },
  {
   "cell_type": "code",
   "execution_count": 145,
   "metadata": {},
   "outputs": [
    {
     "name": "stdout",
     "output_type": "stream",
     "text": [
      "Train on 2840 samples, validate on 149 samples\n",
      "Epoch 1/10\n",
      "2840/2840 [==============================] - 2s 815us/step - loss: 1289.4205 - accuracy: 0.1546 - val_loss: 5839.3473 - val_accuracy: 0.0671\n",
      "Epoch 2/10\n",
      "2840/2840 [==============================] - 1s 302us/step - loss: 1289.3680 - accuracy: 0.1504 - val_loss: 5839.3157 - val_accuracy: 0.0671\n",
      "Epoch 3/10\n",
      "2840/2840 [==============================] - 1s 467us/step - loss: 1289.2825 - accuracy: 0.1567 - val_loss: 5839.2681 - val_accuracy: 0.0671\n",
      "Epoch 4/10\n",
      "2840/2840 [==============================] - 2s 579us/step - loss: 1289.0469 - accuracy: 0.1972 - val_loss: 5839.0654 - val_accuracy: 0.0671\n",
      "Epoch 5/10\n",
      "2840/2840 [==============================] - 2s 577us/step - loss: 1288.9860 - accuracy: 0.2063 - val_loss: 5838.7940 - val_accuracy: 0.0738\n",
      "Epoch 6/10\n",
      "2840/2840 [==============================] - 2s 581us/step - loss: 1288.9785 - accuracy: 0.2000 - val_loss: 5838.7798 - val_accuracy: 0.0872\n",
      "Epoch 7/10\n",
      "2840/2840 [==============================] - 2s 592us/step - loss: 1288.9722 - accuracy: 0.1944 - val_loss: 5838.7745 - val_accuracy: 0.0872\n",
      "Epoch 8/10\n",
      "2840/2840 [==============================] - 2s 587us/step - loss: 1288.9647 - accuracy: 0.1951 - val_loss: 5838.7750 - val_accuracy: 0.0738\n",
      "Epoch 9/10\n",
      "2840/2840 [==============================] - 2s 584us/step - loss: 1288.9681 - accuracy: 0.2067 - val_loss: 5838.7712 - val_accuracy: 0.0872\n",
      "Epoch 10/10\n",
      "2840/2840 [==============================] - 2s 577us/step - loss: 1288.9671 - accuracy: 0.2063 - val_loss: 5838.7699 - val_accuracy: 0.0940\n"
     ]
    }
   ],
   "source": [
    "# fit network\n",
    "gru_history = model_gru.fit(X_train_lagged, Y_train_leading, epochs=10, batch_size=100, validation_data=(X_valid_lagged, Y_valid_leading), shuffle=False)"
   ]
  },
  {
   "cell_type": "code",
   "execution_count": 146,
   "metadata": {},
   "outputs": [
    {
     "data": {
      "image/png": "[encoded data removed]",
      "text/plain": [
       "<Figure size 432x288 with 1 Axes>"
      ]
     },
     "metadata": {
      "needs_background": "light"
     },
     "output_type": "display_data"
    }
   ],
   "source": [
    "pyplot.plot(gru_history.history['loss'], label='GRU train', color='brown')\n",
    "pyplot.plot(gru_history.history['val_loss'], label='GRU valid', color='blue')\n",
    "pyplot.legend()\n",
    "pyplot.show()"
   ]
  },
  {
   "cell_type": "code",
   "execution_count": 147,
   "metadata": {},
   "outputs": [
    {
     "name": "stdout",
     "output_type": "stream",
     "text": [
      "Accuracy: [5838.769077377831, 0.0939597338438034]\n"
     ]
    }
   ],
   "source": [
    "scores = model_gru.evaluate(X_valid_lagged, Y_valid_leading, verbose=0)\n",
    "print(\"Accuracy: \" + str(scores))"
   ]
  },
  {
   "cell_type": "markdown",
   "metadata": {},
   "source": [
    "### 4) Build and train an RNN model with a GRU layer and recurrent dropout and print the train and validation loss for each epoch"
   ]
  },
  {
   "cell_type": "code",
   "execution_count": 148,
   "metadata": {},
   "outputs": [
    {
     "name": "stdout",
     "output_type": "stream",
     "text": [
      "Model: \"sequential_1\"\n",
      "_________________________________________________________________\n",
      "Layer (type)                 Output Shape              Param #   \n",
      "=================================================================\n",
      "gru_1 (GRU)                  (None, 500)               766500    \n",
      "_________________________________________________________________\n",
      "dense_1 (Dense)              (None, 7)                 3507      \n",
      "=================================================================\n",
      "Total params: 770,007\n",
      "Trainable params: 770,007\n",
      "Non-trainable params: 0\n",
      "_________________________________________________________________\n"
     ]
    }
   ],
   "source": [
    "#gru\n",
    "keras.backend.clear_session()\n",
    "model_gru2 = Sequential()\n",
    "model_gru2.add(GRU(500,recurrent_dropout=0.5, input_shape=(X_train_lagged.shape[1], X_train_lagged.shape[2])))\n",
    "model_gru2.add(Dense(units=7,activation='sigmoid'))\n",
    "model_gru2.compile(loss='mae', optimizer='adam', metrics=['accuracy'])\n",
    "model_gru2.summary()"
   ]
  },
  {
   "cell_type": "code",
   "execution_count": 149,
   "metadata": {},
   "outputs": [
    {
     "name": "stdout",
     "output_type": "stream",
     "text": [
      "Train on 2840 samples, validate on 149 samples\n",
      "Epoch 1/10\n",
      "2840/2840 [==============================] - 31s 11ms/step - loss: 1289.4158 - accuracy: 0.1827 - val_loss: 5839.2270 - val_accuracy: 0.1678\n",
      "Epoch 2/10\n",
      "2840/2840 [==============================] - 30s 10ms/step - loss: 1289.3867 - accuracy: 0.1891 - val_loss: 5839.2434 - val_accuracy: 0.1208\n",
      "Epoch 3/10\n",
      "2840/2840 [==============================] - 30s 11ms/step - loss: 1289.3280 - accuracy: 0.1891 - val_loss: 5839.2442 - val_accuracy: 0.1074\n",
      "Epoch 4/10\n",
      "2840/2840 [==============================] - 29s 10ms/step - loss: 1289.3147 - accuracy: 0.1877 - val_loss: 5839.2433 - val_accuracy: 0.1007\n",
      "Epoch 5/10\n",
      "2840/2840 [==============================] - 28s 10ms/step - loss: 1289.3275 - accuracy: 0.1761 - val_loss: 5839.2244 - val_accuracy: 0.1879\n",
      "Epoch 6/10\n",
      "2840/2840 [==============================] - 30s 11ms/step - loss: 1289.3475 - accuracy: 0.1532 - val_loss: 5839.2232 - val_accuracy: 0.1879\n",
      "Epoch 7/10\n",
      "2840/2840 [==============================] - 33s 11ms/step - loss: 1289.3438 - accuracy: 0.1676 - val_loss: 5839.2231 - val_accuracy: 0.1879\n",
      "Epoch 8/10\n",
      "2840/2840 [==============================] - 29s 10ms/step - loss: 1289.3440 - accuracy: 0.1761 - val_loss: 5839.2226 - val_accuracy: 0.1879\n",
      "Epoch 9/10\n",
      "2840/2840 [==============================] - 30s 11ms/step - loss: 1289.3435 - accuracy: 0.1525 - val_loss: 5839.2158 - val_accuracy: 0.1879\n",
      "Epoch 10/10\n",
      "2840/2840 [==============================] - 29s 10ms/step - loss: 1289.3589 - accuracy: 0.1447 - val_loss: 5839.2109 - val_accuracy: 0.1879\n"
     ]
    }
   ],
   "source": [
    "# fit network\n",
    "gru_history = model_gru2.fit(X_train_lagged, Y_train_leading, epochs=10, batch_size=100, validation_data=(X_valid_lagged, Y_valid_leading), shuffle=False)"
   ]
  },
  {
   "cell_type": "code",
   "execution_count": 141,
   "metadata": {},
   "outputs": [
    {
     "data": {
      "image/png": "[encoded data removed]",
      "text/plain": [
       "<Figure size 432x288 with 1 Axes>"
      ]
     },
     "metadata": {
      "needs_background": "light"
     },
     "output_type": "display_data"
    }
   ],
   "source": [
    "pyplot.plot(gru_history.history['loss'], label='GRU train', color='brown')\n",
    "pyplot.plot(gru_history.history['val_loss'], label='GRU valid', color='blue')\n",
    "pyplot.legend()\n",
    "pyplot.show()"
   ]
  },
  {
   "cell_type": "code",
   "execution_count": 143,
   "metadata": {},
   "outputs": [
    {
     "name": "stdout",
     "output_type": "stream",
     "text": [
      "Accuracy: [5839.279688483117, 0.08053690940141678]\n"
     ]
    }
   ],
   "source": [
    "scores = model_gru2.evaluate(X_valid_lagged, Y_valid_leading, verbose=0)\n",
    "print(\"Accuracy: \" + str(scores))"
   ]
  },
  {
   "cell_type": "markdown",
   "metadata": {},
   "source": [
    "### 6) Add an additional GRU layer to (5) above with dropout and recurrent dropout and print train and validation loss"
   ]
  },
  {
   "cell_type": "code",
   "execution_count": null,
   "metadata": {},
   "outputs": [],
   "source": [
    "#gru\n",
    "keras.backend.clear_session()\n",
    "model_gru3 = Sequential()\n",
    "model_gru3.add(GRU(50,recurrent_dropout=0.2, input_shape=(X_train_lagged.shape[1], X_train_lagged.shape[2])))\n",
    "model_gru3.add(Dense(units=7,activation='sigmoid'))\n",
    "model_gru3.compile(loss='mae', optimizer='adam', metrics=['accuracy'])\n",
    "model_gru3.summary()"
   ]
  }
 ],
 "metadata": {
  "kernelspec": {
   "display_name": "Python 2",
   "language": "python",
   "name": "python2"
  },
  "language_info": {
   "codemirror_mode": {
    "name": "ipython",
    "version": 2
   },
   "file_extension": ".py",
   "mimetype": "text/x-python",
   "name": "python",
   "nbconvert_exporter": "python",
   "pygments_lexer": "ipython2",
   "version": "2.7.10"
  }
 },
 "nbformat": 4,
 "nbformat_minor": 2
}
