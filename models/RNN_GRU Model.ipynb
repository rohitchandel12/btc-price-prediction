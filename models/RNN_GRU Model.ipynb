{
 "cells": [
  {
   "cell_type": "code",
   "execution_count": 129,
   "metadata": {},
   "outputs": [],
   "source": [
    "import pandas as pd\n",
    "import numpy as np\n",
    "from math import sqrt\n",
    "from numpy import concatenate\n",
    "from matplotlib import pyplot\n",
    "from pandas import read_csv\n",
    "from pandas import DataFrame\n",
    "from pandas import concat\n",
    "from sklearn.preprocessing import MinMaxScaler\n",
    "from sklearn.preprocessing import LabelEncoder\n",
    "from sklearn.metrics import mean_squared_error\n",
    "from keras.models import Sequential\n",
    "from keras.layers import Dense\n",
    "from keras.layers import LSTM, GRU\n",
    "import tensorflow as tf\n",
    "from datetime import datetime\n",
    "import keras\n",
    "import matplotlib.pyplot as plt\n",
    "import seaborn as sns\n",
    "plt.style.use('fivethirtyeight')\n",
    "\n",
    "\n",
    "plt.rcParams['font.size'] = 10\n",
    "plt.rcParams['axes.labelsize'] = 10\n",
    "plt.rcParams['axes.labelweight'] = 'bold'\n",
    "plt.rcParams['axes.titlesize'] = 10\n",
    "plt.rcParams['xtick.labelsize'] = 8\n",
    "plt.rcParams['ytick.labelsize'] = 8\n",
    "plt.rcParams['legend.fontsize'] = 10\n",
    "plt.rcParams['figure.titlesize'] = 12\n",
    "\n",
    "%matplotlib inline"
   ]
  },
  {
   "cell_type": "code",
   "execution_count": 130,
   "metadata": {},
   "outputs": [],
   "source": [
    "from sklearn.externals import joblib \n",
    "#load normalizer\n",
    "y_scaler = joblib.load('price_normalizer.pkl') "
   ]
  },
  {
   "cell_type": "markdown",
   "metadata": {},
   "source": [
    "### 3) Build and train an RNN model with a GRU layer and print the train and validation loss"
   ]
  },
  {
   "cell_type": "code",
   "execution_count": 131,
   "metadata": {},
   "outputs": [],
   "source": [
    "X_test_lagged = pd.read_csv('../models/X_test_lagged.csv',index_col = 0)\n",
    "X_train_lagged = pd.read_csv('../models/X_train_lagged.csv',index_col = 0)\n",
    "X_valid_lagged = pd.read_csv('../models/X_valid_lagged.csv',index_col = 0)\n",
    "\n",
    "Y_test_leading = pd.read_csv('../models/Y_test_leading.csv',index_col = 0)\n",
    "Y_train_leading = pd.read_csv('../models/Y_train_leading.csv',index_col = 0)\n",
    "Y_valid_leading = pd.read_csv('../models/Y_valid_leading.csv',index_col = 0)"
   ]
  },
  {
   "cell_type": "code",
   "execution_count": 132,
   "metadata": {},
   "outputs": [
    {
     "name": "stdout",
     "output_type": "stream",
     "text": [
      "(2862, 6, 13) (2862, 7) (171, 6, 13) (171, 7)\n"
     ]
    }
   ],
   "source": [
    "N=6\n",
    "# reshape input to be 3D [samples, time steps, features]\n",
    "X_train_lagged = X_train_lagged.values.reshape((X_train_lagged.shape[0], N, int(X_train_lagged.shape[1]/N)))\n",
    "X_valid_lagged = X_valid_lagged.values.reshape((X_valid_lagged.shape[0], N, int(X_valid_lagged.shape[1]/N)))\n",
    "print(X_train_lagged.shape, Y_train_leading.shape, X_valid_lagged.shape, Y_valid_leading.shape)"
   ]
  },
  {
   "cell_type": "code",
   "execution_count": 133,
   "metadata": {},
   "outputs": [
    {
     "name": "stdout",
     "output_type": "stream",
     "text": [
      "Model: \"sequential_1\"\n",
      "_________________________________________________________________\n",
      "Layer (type)                 Output Shape              Param #   \n",
      "=================================================================\n",
      "gru_1 (GRU)                  (None, 50)                9600      \n",
      "_________________________________________________________________\n",
      "dense_1 (Dense)              (None, 7)                 357       \n",
      "=================================================================\n",
      "Total params: 9,957\n",
      "Trainable params: 9,957\n",
      "Non-trainable params: 0\n",
      "_________________________________________________________________\n"
     ]
    },
    {
     "name": "stderr",
     "output_type": "stream",
     "text": [
      "Exception ignored in: <bound method BaseSession._Callable.__del__ of <tensorflow.python.client.session.BaseSession._Callable object at 0x1335a63c8>>\n",
      "Traceback (most recent call last):\n",
      "  File \"/Users/rohitchandel/anaconda2/envs/mfe-env/lib/python3.6/site-packages/tensorflow/python/client/session.py\", line 1467, in __del__\n",
      "    self._session._session, self._handle, status)\n",
      "  File \"/Users/rohitchandel/anaconda2/envs/mfe-env/lib/python3.6/site-packages/tensorflow/python/framework/errors_impl.py\", line 519, in __exit__\n",
      "    c_api.TF_GetCode(self.status.status))\n",
      "tensorflow.python.framework.errors_impl.InvalidArgumentError: No such callable handle: 140613745948528\n"
     ]
    }
   ],
   "source": [
    "#gru\n",
    "keras.backend.clear_session()\n",
    "model_gru = Sequential()\n",
    "model_gru.add(GRU(50,input_shape=(X_train_lagged.shape[1], X_train_lagged.shape[2])))\n",
    "model_gru.add(Dense(units=7))\n",
    "model_gru.compile(loss='mae', optimizer='adam', metrics=['accuracy'])\n",
    "model_gru.summary()"
   ]
  },
  {
   "cell_type": "code",
   "execution_count": 134,
   "metadata": {},
   "outputs": [
    {
     "name": "stdout",
     "output_type": "stream",
     "text": [
      "Train on 2862 samples, validate on 171 samples\n",
      "Epoch 1/50\n",
      "2862/2862 [==============================] - 2s 628us/step - loss: 0.2028 - acc: 0.1223 - val_loss: 0.5804 - val_acc: 0.2047\n",
      "Epoch 2/50\n",
      "2862/2862 [==============================] - 1s 317us/step - loss: 0.2336 - acc: 0.1471 - val_loss: 0.4336 - val_acc: 0.2456\n",
      "Epoch 3/50\n",
      "2862/2862 [==============================] - 1s 319us/step - loss: 0.1404 - acc: 0.1314 - val_loss: 0.3925 - val_acc: 0.1813\n",
      "Epoch 4/50\n",
      "2862/2862 [==============================] - 1s 313us/step - loss: 0.1455 - acc: 0.1572 - val_loss: 0.3493 - val_acc: 0.0819\n",
      "Epoch 5/50\n",
      "2862/2862 [==============================] - 1s 314us/step - loss: 0.1063 - acc: 0.1513 - val_loss: 0.3533 - val_acc: 0.0994\n",
      "Epoch 6/50\n",
      "2862/2862 [==============================] - 1s 313us/step - loss: 0.1066 - acc: 0.1408 - val_loss: 0.3401 - val_acc: 0.0994\n",
      "Epoch 7/50\n",
      "2862/2862 [==============================] - 1s 315us/step - loss: 0.1075 - acc: 0.1590 - val_loss: 0.3522 - val_acc: 0.0877\n",
      "Epoch 8/50\n",
      "2862/2862 [==============================] - 1s 318us/step - loss: 0.1008 - acc: 0.1342 - val_loss: 0.3485 - val_acc: 0.2105\n",
      "Epoch 9/50\n",
      "2862/2862 [==============================] - 1s 315us/step - loss: 0.1140 - acc: 0.1761 - val_loss: 0.3549 - val_acc: 0.1520\n",
      "Epoch 10/50\n",
      "2862/2862 [==============================] - 1s 316us/step - loss: 0.1051 - acc: 0.1408 - val_loss: 0.3299 - val_acc: 0.1228\n",
      "Epoch 11/50\n",
      "2862/2862 [==============================] - 1s 314us/step - loss: 0.1014 - acc: 0.1488 - val_loss: 0.3286 - val_acc: 0.1579\n",
      "Epoch 12/50\n",
      "2862/2862 [==============================] - 1s 321us/step - loss: 0.0977 - acc: 0.1321 - val_loss: 0.3028 - val_acc: 0.1404\n",
      "Epoch 13/50\n",
      "2862/2862 [==============================] - 1s 312us/step - loss: 0.0935 - acc: 0.1509 - val_loss: 0.3119 - val_acc: 0.2339\n",
      "Epoch 14/50\n",
      "2862/2862 [==============================] - 1s 316us/step - loss: 0.0900 - acc: 0.1307 - val_loss: 0.2782 - val_acc: 0.2222\n",
      "Epoch 15/50\n",
      "2862/2862 [==============================] - 1s 349us/step - loss: 0.0901 - acc: 0.1391 - val_loss: 0.3053 - val_acc: 0.1813\n",
      "Epoch 16/50\n",
      "2862/2862 [==============================] - 1s 378us/step - loss: 0.0847 - acc: 0.1345 - val_loss: 0.2860 - val_acc: 0.1813\n",
      "Epoch 17/50\n",
      "2862/2862 [==============================] - 1s 335us/step - loss: 0.0851 - acc: 0.1426 - val_loss: 0.2838 - val_acc: 0.2047\n",
      "Epoch 18/50\n",
      "2862/2862 [==============================] - 1s 376us/step - loss: 0.0800 - acc: 0.1111 - val_loss: 0.2775 - val_acc: 0.0994\n",
      "Epoch 19/50\n",
      "2862/2862 [==============================] - 1s 354us/step - loss: 0.0866 - acc: 0.1307 - val_loss: 0.2806 - val_acc: 0.1111\n",
      "Epoch 20/50\n",
      "2862/2862 [==============================] - 1s 382us/step - loss: 0.0859 - acc: 0.1429 - val_loss: 0.2668 - val_acc: 0.1696\n",
      "Epoch 21/50\n",
      "2862/2862 [==============================] - 1s 382us/step - loss: 0.0919 - acc: 0.1471 - val_loss: 0.2723 - val_acc: 0.0819\n",
      "Epoch 22/50\n",
      "2862/2862 [==============================] - 1s 370us/step - loss: 0.0776 - acc: 0.1468 - val_loss: 0.3009 - val_acc: 0.0936\n",
      "Epoch 23/50\n",
      "2862/2862 [==============================] - 1s 379us/step - loss: 0.0835 - acc: 0.1240 - val_loss: 0.2535 - val_acc: 0.1520\n",
      "Epoch 24/50\n",
      "2862/2862 [==============================] - 1s 367us/step - loss: 0.0999 - acc: 0.1338 - val_loss: 0.2686 - val_acc: 0.1579\n",
      "Epoch 25/50\n",
      "2862/2862 [==============================] - 1s 343us/step - loss: 0.0783 - acc: 0.1391 - val_loss: 0.3255 - val_acc: 0.1228\n",
      "Epoch 26/50\n",
      "2862/2862 [==============================] - 1s 328us/step - loss: 0.0746 - acc: 0.1614 - val_loss: 0.2478 - val_acc: 0.1871\n",
      "Epoch 27/50\n",
      "2862/2862 [==============================] - 1s 329us/step - loss: 0.0800 - acc: 0.1394 - val_loss: 0.2613 - val_acc: 0.1871\n",
      "Epoch 28/50\n",
      "2862/2862 [==============================] - 1s 372us/step - loss: 0.0742 - acc: 0.1642 - val_loss: 0.2938 - val_acc: 0.2456\n",
      "Epoch 29/50\n",
      "2862/2862 [==============================] - 1s 346us/step - loss: 0.0763 - acc: 0.1230 - val_loss: 0.2928 - val_acc: 0.1170\n",
      "Epoch 30/50\n",
      "2862/2862 [==============================] - 1s 330us/step - loss: 0.0887 - acc: 0.1436 - val_loss: 0.2972 - val_acc: 0.0702\n",
      "Epoch 31/50\n",
      "2862/2862 [==============================] - 1s 356us/step - loss: 0.0722 - acc: 0.1443 - val_loss: 0.2818 - val_acc: 0.1930\n",
      "Epoch 32/50\n",
      "2862/2862 [==============================] - 1s 352us/step - loss: 0.0695 - acc: 0.1164 - val_loss: 0.3148 - val_acc: 0.1520\n",
      "Epoch 33/50\n",
      "2862/2862 [==============================] - 1s 386us/step - loss: 0.0718 - acc: 0.1929 - val_loss: 0.2543 - val_acc: 0.1404\n",
      "Epoch 34/50\n",
      "2862/2862 [==============================] - 1s 391us/step - loss: 0.0751 - acc: 0.1314 - val_loss: 0.2599 - val_acc: 0.0643\n",
      "Epoch 35/50\n",
      "2862/2862 [==============================] - 1s 361us/step - loss: 0.0695 - acc: 0.1981 - val_loss: 0.2951 - val_acc: 0.0994\n",
      "Epoch 36/50\n",
      "2862/2862 [==============================] - 1s 354us/step - loss: 0.0645 - acc: 0.1296 - val_loss: 0.3268 - val_acc: 0.1228\n",
      "Epoch 37/50\n",
      "2862/2862 [==============================] - 1s 395us/step - loss: 0.0671 - acc: 0.1799 - val_loss: 0.2211 - val_acc: 0.1228\n",
      "Epoch 38/50\n",
      "2862/2862 [==============================] - 1s 384us/step - loss: 0.0785 - acc: 0.1324 - val_loss: 0.2520 - val_acc: 0.2398\n",
      "Epoch 39/50\n",
      "2862/2862 [==============================] - 1s 412us/step - loss: 0.0782 - acc: 0.1359 - val_loss: 0.3613 - val_acc: 0.1930\n",
      "Epoch 40/50\n",
      "2862/2862 [==============================] - 1s 387us/step - loss: 0.0733 - acc: 0.1419 - val_loss: 0.2245 - val_acc: 0.1579\n",
      "Epoch 41/50\n",
      "2862/2862 [==============================] - 1s 393us/step - loss: 0.0644 - acc: 0.1541 - val_loss: 0.2534 - val_acc: 0.1871\n",
      "Epoch 42/50\n",
      "2862/2862 [==============================] - 1s 404us/step - loss: 0.0660 - acc: 0.1474 - val_loss: 0.3125 - val_acc: 0.1579\n",
      "Epoch 43/50\n",
      "2862/2862 [==============================] - 1s 366us/step - loss: 0.0690 - acc: 0.1527 - val_loss: 0.2391 - val_acc: 0.0936\n",
      "Epoch 44/50\n",
      "2862/2862 [==============================] - 1s 368us/step - loss: 0.0916 - acc: 0.1338 - val_loss: 0.2433 - val_acc: 0.1462\n",
      "Epoch 45/50\n",
      "2862/2862 [==============================] - 1s 344us/step - loss: 0.0759 - acc: 0.1426 - val_loss: 0.2982 - val_acc: 0.1579\n",
      "Epoch 46/50\n",
      "2862/2862 [==============================] - 1s 382us/step - loss: 0.0666 - acc: 0.1495 - val_loss: 0.2357 - val_acc: 0.1754\n",
      "Epoch 47/50\n",
      "2862/2862 [==============================] - 1s 356us/step - loss: 0.0628 - acc: 0.1265 - val_loss: 0.2579 - val_acc: 0.1228\n",
      "Epoch 48/50\n",
      "2862/2862 [==============================] - 1s 383us/step - loss: 0.0681 - acc: 0.1527 - val_loss: 0.3139 - val_acc: 0.1404\n",
      "Epoch 49/50\n",
      "2862/2862 [==============================] - 1s 350us/step - loss: 0.0645 - acc: 0.1296 - val_loss: 0.2524 - val_acc: 0.1111\n",
      "Epoch 50/50\n",
      "2862/2862 [==============================] - 1s 385us/step - loss: 0.0871 - acc: 0.1373 - val_loss: 0.2502 - val_acc: 0.1696\n"
     ]
    }
   ],
   "source": [
    "# fit network\n",
    "gru_history = model_gru.fit(X_train_lagged, Y_train_leading, epochs=50, batch_size=20, validation_data=(X_valid_lagged, Y_valid_leading), shuffle=False)\n"
   ]
  },
  {
   "cell_type": "code",
   "execution_count": 135,
   "metadata": {},
   "outputs": [
    {
     "data": {
      "image/png": "[encoded data removed]",
      "text/plain": [
       "<Figure size 432x288 with 1 Axes>"
      ]
     },
     "metadata": {
      "needs_background": "light"
     },
     "output_type": "display_data"
    }
   ],
   "source": [
    "pyplot.plot(gru_history.history['loss'], label='GRU train', color='brown')\n",
    "pyplot.plot(gru_history.history['val_loss'], label='GRU valid', color='blue')\n",
    "pyplot.legend()\n",
    "pyplot.show()"
   ]
  },
  {
   "cell_type": "code",
   "execution_count": 136,
   "metadata": {},
   "outputs": [
    {
     "name": "stdout",
     "output_type": "stream",
     "text": [
      "Accuracy: [0.2501841626669231, 0.16959064362341897]\n"
     ]
    }
   ],
   "source": [
    "scores = model_gru.evaluate(X_valid_lagged, Y_valid_leading, verbose=0)\n",
    "print(\"Accuracy: \" + str(scores))"
   ]
  },
  {
   "cell_type": "code",
   "execution_count": null,
   "metadata": {},
   "outputs": [
    {
     "data": {
      "text/plain": [
       "Text(0.5, 0, 'date')"
      ]
     },
     "execution_count": 137,
     "metadata": {},
     "output_type": "execute_result"
    }
   ],
   "source": [
    "y_valid_pred = model_gru.predict(X_valid_lagged)\n",
    "unnorm_y_valid_pred = y_scaler.inverse_transform(y_valid_pred)\n",
    "unnorm_y_valid = y_scaler.inverse_transform(Y_valid_leading)\n",
    "plt.figure(figsize=(16,6))\n",
    "plt.title('RNN GRU Model Validation Predictions(t+1)')\n",
    "sns.lineplot(Y_valid_leading.index, unnorm_y_valid_pred[:,0], label='predicted price t+1')\n",
    "sns.lineplot(Y_valid_leading.index, unnorm_y_valid[:, 0], label='actual price')\n",
    "plt.xlabel('date')\n"
   ]
  },
  {
   "cell_type": "markdown",
   "metadata": {},
   "source": [
    "### 4) Build and train an RNN model with a GRU layer and recurrent dropout and print the train and validation loss for each epoch"
   ]
  },
  {
   "cell_type": "code",
   "execution_count": null,
   "metadata": {},
   "outputs": [],
   "source": [
    "#gru\n",
    "keras.backend.clear_session()\n",
    "model_gru2 = Sequential()\n",
    "model_gru2.add(GRU(500,recurrent_dropout=0.5, input_shape=(X_train_lagged.shape[1], X_train_lagged.shape[2])))\n",
    "model_gru2.add(Dense(units=7))\n",
    "model_gru2.compile(loss='mae', optimizer='adam', metrics=['accuracy'])\n",
    "model_gru2.summary()"
   ]
  },
  {
   "cell_type": "code",
   "execution_count": null,
   "metadata": {},
   "outputs": [],
   "source": [
    "# fit network\n",
    "gru_history = model_gru2.fit(X_train_lagged, Y_train_leading,epochs=20, batch_size=150,\n",
    "                             validation_data=(X_valid_lagged, Y_valid_leading), shuffle=False)\n"
   ]
  },
  {
   "cell_type": "code",
   "execution_count": null,
   "metadata": {},
   "outputs": [],
   "source": [
    "pyplot.plot(gru_history.history['loss'], label='GRU train', color='brown')\n",
    "pyplot.plot(gru_history.history['val_loss'], label='GRU valid', color='blue')\n",
    "pyplot.legend()\n",
    "pyplot.show()"
   ]
  },
  {
   "cell_type": "code",
   "execution_count": null,
   "metadata": {},
   "outputs": [],
   "source": [
    "scores = model_gru2.evaluate(X_valid_lagged, Y_valid_leading, verbose=0)\n",
    "print(\"Accuracy: \" + str(scores))"
   ]
  },
  {
   "cell_type": "code",
   "execution_count": null,
   "metadata": {},
   "outputs": [],
   "source": [
    "y_valid_pred = model_gru2.predict(X_valid_lagged)\n",
    "unnorm_y_valid_pred = y_scaler.inverse_transform(y_valid_pred)\n",
    "plt.figure(figsize=(16,6))\n",
    "plt.title('RNN GRU and Recurrent dropout Model Validation Predictions(t+1)')\n",
    "sns.lineplot(Y_valid_leading.index, unnorm_y_valid_pred[:,0], label='predicted price t+1')\n",
    "sns.lineplot(Y_valid_leading.index, unnorm_y_valid[:, 0], label='actual price')\n",
    "plt.xlabel('date')\n"
   ]
  },
  {
   "cell_type": "markdown",
   "metadata": {},
   "source": [
    "### 6) Add an additional GRU layer to (5) above with dropout and recurrent dropout and print train and validation loss"
   ]
  },
  {
   "cell_type": "code",
   "execution_count": null,
   "metadata": {},
   "outputs": [],
   "source": [
    "#gru\n",
    "keras.backend.clear_session()\n",
    "model_gru3 = Sequential()\n",
    "model_gru3.add(GRU(50,recurrent_dropout=0.2, input_shape=(X_train_lagged.shape[1], X_train_lagged.shape[2])))\n",
    "model_gru3.add(Dense(units=7))\n",
    "model_gru3.compile(loss='mae', optimizer='adam', metrics=['accuracy'])\n",
    "model_gru3.summary()"
   ]
  },
  {
   "cell_type": "code",
   "execution_count": null,
   "metadata": {},
   "outputs": [],
   "source": [
    "gru_history = model_gru3.fit(X_train_lagged, Y_train_leading, epochs=20, batch_size=150, validation_data=(X_valid_lagged, Y_valid_leading), shuffle=False)\n"
   ]
  },
  {
   "cell_type": "code",
   "execution_count": null,
   "metadata": {},
   "outputs": [],
   "source": []
  }
 ],
 "metadata": {
  "kernelspec": {
   "display_name": "Python (mfe-env)",
   "language": "python",
   "name": "mfe-env"
  },
  "language_info": {
   "codemirror_mode": {
    "name": "ipython",
    "version": 3
   },
   "file_extension": ".py",
   "mimetype": "text/x-python",
   "name": "python",
   "nbconvert_exporter": "python",
   "pygments_lexer": "ipython3",
   "version": "3.6.7"
  }
 },
 "nbformat": 4,
 "nbformat_minor": 2
}
